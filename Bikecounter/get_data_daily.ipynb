{
 "cells": [
  {
   "cell_type": "code",
   "execution_count": 2,
   "metadata": {
    "colab": {},
    "colab_type": "code",
    "id": "18KQSvUKJLHO"
   },
   "outputs": [],
   "source": [
    "import json\n",
    "import pandas as pd\n",
    "import numpy as np\n",
    "import matplotlib as mpl\n",
    "import matplotlib.pyplot as plt\n",
    "import os\n",
    "import boto3\n",
    "import requests\n",
    "import json\n",
    "from datetime import datetime, timedelta"
   ]
  },
  {
   "cell_type": "code",
   "execution_count": 28,
   "metadata": {},
   "outputs": [],
   "source": [
    "pratiques_path = \"pratiques.csv\"\n",
    "locations_path = \"Counterlist-DE.csv\"\n",
    "pratiques_df = pd.read_csv(pratiques_path,sep='\\t')\n",
    "locations_df = pd.read_csv(locations_path,sep='\\t')"
   ]
  },
  {
   "cell_type": "code",
   "execution_count": 52,
   "metadata": {},
   "outputs": [],
   "source": [
    "\n",
    "unique_date = []\n",
    "data_sets = []\n",
    "\n",
    "def create_request():\n",
    "    json_data={}\n",
    "  \n",
    "    for index, row in locations_df.iterrows():\n",
    "        url = 'http://data.eco-counter.com/ParcPublic/CounterData'\n",
    "        #start_day, start_month, start_year = row.debut.split('/')\n",
    "        yesterda_day, yesterday_month, yesterday_year = (datetime.today() - timedelta(1)).strftime('%d/%m/%Y').split('/')\n",
    "        today_day, today_month, today_year = datetime.today().strftime('%d/%m/%Y').split('/')\n",
    "        pratiques = \"\"\n",
    "        if hasattr(row, 'pratiques'):\n",
    "            pratiques=\"&pratiques=\"+row.pratiques\n",
    "        body = \"idOrganisme=4586&idPdc={}&fin={}%2F{}%2F{}&debut={}%2F{}%2F{}&interval=4&pratiques={}\".format(row.idPdc, today_day, today_month, today_year, yesterda_day, yesterday_month, yesterday_year, pratiques)\n",
    "\n",
    "        headers = {\n",
    "            \"Accept\": \"text/plain, */*; q=0.01\",\n",
    "            \"Accept-Encoding\": \"gzip, deflate\",\n",
    "            \"Accept-Language\": \"en-US,en;q=0.9\",\n",
    "            \"Connection\": \"keep-alive\",\n",
    "            \"Content-Length\": \"115\",\n",
    "            \"Content-Type\": \"application/x-www-form-urlencoded; charset=UTF-8\",\n",
    "            \"Cookie\": \"i18next=en_US; _ga=GA1.2.1682226698.1584790632; _gid=GA1.2.220973166.1584790632\",\n",
    "            \"Host\": \"data.eco-counter.com\",\n",
    "            \"Origin\": \"http://data.eco-counter.com\",\n",
    "            \"Referer\": \"http://data.eco-counter.com/ParcPublic/?id=4586\",\n",
    "            \"User-Agent\": \"Mozilla/5.0 (Windows NT 10.0; WOW64) AppleWebKit/537.36 (KHTML, like Gecko) Chrome/75.0.3770.80 Safari/537.36\",\n",
    "            \"X-Requested-With\": \"XMLHttpRequest\"\n",
    "        }\n",
    "        x = requests.post(url, body, headers=headers)   \n",
    "\n",
    "        for entry in x.json()[:-1]:\n",
    "            data_set={}\n",
    "            date = str(entry[0]) \n",
    "            formatted_date = datetime.strptime(date, '%m/%d/%Y').strftime('%Y-%m-%d')   \n",
    "            data_set['date']= formatted_date\n",
    "            data_set['bike_count']= str(entry[1])\n",
    "            data_set['name']= row['nom']\n",
    "            data_set['lon']=row['lon']\n",
    "            data_set['lat']=row['lat']\n",
    "            data_sets.append(data_set)\n",
    "            if formatted_date not in unique_date:\n",
    "                unique_date.append(formatted_date)\n",
    "    return data_sets"
   ]
  },
  {
   "cell_type": "code",
   "execution_count": 53,
   "metadata": {
    "colab": {},
    "colab_type": "code",
    "id": "AEJtNXifYgvB"
   },
   "outputs": [],
   "source": [
    "json_data = create_request()"
   ]
  },
  {
   "cell_type": "code",
   "execution_count": 55,
   "metadata": {},
   "outputs": [],
   "source": [
    "df_new = pd.DataFrame(data=json_data)"
   ]
  },
  {
   "cell_type": "code",
   "execution_count": 57,
   "metadata": {},
   "outputs": [],
   "source": [
    "# add a column that contains the station_string\n",
    "def f(x):\n",
    "    \"\"\" return the station string \"\"\"\n",
    "    return \"('%s', '%s')\" % (x[\"lon\"], x[\"lat\"])\n",
    "df_new[\"station_string\"] = df_new.apply(f, axis=1)\n",
    "df_new[\"date\"] = df_new.date.apply(lambda x: datetime.strptime(x, '%Y-%m-%d'))\n"
   ]
  },
  {
   "cell_type": "code",
   "execution_count": 59,
   "metadata": {},
   "outputs": [],
   "source": [
    "# load bike prediction modul\n",
    "from prediction import BikePrediction\n",
    "BT = BikePrediction()"
   ]
  },
  {
   "cell_type": "code",
   "execution_count": 67,
   "metadata": {},
   "outputs": [
    {
     "name": "stderr",
     "output_type": "stream",
     "text": [
      "C:\\Users\\gabriel.jaeger\\AppData\\Local\\Continuum\\anaconda3\\lib\\site-packages\\ipykernel_launcher.py:19: SettingWithCopyWarning: \n",
      "A value is trying to be set on a copy of a slice from a DataFrame.\n",
      "Try using .loc[row_indexer,col_indexer] = value instead\n",
      "\n",
      "See the caveats in the documentation: http://pandas.pydata.org/pandas-docs/stable/user_guide/indexing.html#returning-a-view-versus-a-copy\n"
     ]
    }
   ],
   "source": [
    "# set predictions for each station by filtering df_new accordingly\n",
    "stations = df_new[\"name\"].unique()\n",
    "\n",
    "df_enriched = pd.DataFrame()\n",
    "\n",
    "for station in stations:\n",
    "    #print(\"current station\", station)\n",
    "    tmp = df_new.loc[df_new[\"name\"]==station]\n",
    "    #print(\"len tmp\", len(tmp))\n",
    "\n",
    "    if len(tmp) > 450:\n",
    "        # only predict if more than 365 days exist\n",
    "        predictions = BT.predict_series(\n",
    "            station_string=station,\n",
    "            days=tmp[\"date\"])\n",
    "        \n",
    "        tmp = tmp.join(predictions.set_index(\"date\"), on=\"date\")\n",
    "    else:\n",
    "        tmp[\"prediction\"] = 0\n",
    "    if len(df_enriched) == 0:\n",
    "        df_enriched = tmp\n",
    "    else:\n",
    "        #print('ln temp', len(tmp))\n",
    "        #print('ln enr', len(df_enriched))\n",
    "        df_enriched = df_enriched.append(tmp)\n",
    "    #df_new[df_new[\"station_string\"]==station] = tmp"
   ]
  },
  {
   "cell_type": "code",
   "execution_count": 61,
   "metadata": {},
   "outputs": [],
   "source": [
    "df_new = df_enriched"
   ]
  },
  {
   "cell_type": "code",
   "execution_count": 62,
   "metadata": {},
   "outputs": [],
   "source": [
    "df_new['date']=df_new.date.apply(lambda x: datetime.strftime(x, '%Y-%m-%d'))"
   ]
  },
  {
   "cell_type": "code",
   "execution_count": 63,
   "metadata": {},
   "outputs": [],
   "source": [
    "whole_json = df_new.to_json(orient='records')"
   ]
  },
  {
   "cell_type": "code",
   "execution_count": 65,
   "metadata": {},
   "outputs": [],
   "source": [
    "s3_client = boto3.client('s3', \n",
    "    aws_access_key_id=settings.AWS_SERVER_PUBLIC_KEY, \n",
    "    aws_secret_access_key=settings.AWS_SERVER_SECRET_KEY, \n",
    "    region_name=REGION_NAME\n",
    "    )"
   ]
  },
  {
   "cell_type": "code",
   "execution_count": 66,
   "metadata": {},
   "outputs": [],
   "source": [
    "\n",
    "for date in unique_date:\n",
    "    year=date[0:4]\n",
    "    month=date[5:7]\n",
    "    day=date[8:10]\n",
    "    data_array=[]\n",
    "    \n",
    "    for i in json.loads(whole_json):\n",
    "        if i['date'] == date:\n",
    "            data_array.append(i)\n",
    "    response = s3_client.put_object(\n",
    "      Bucket=\"sdd-s3-basebucket\",\n",
    "      Body=json.dumps(data_array),     \n",
    "      Key=\"fahrrad/\"+year+\"/\"+month+\"/\"+day+'/{}.json'.format(year + '-' + month + '-' + day)\n",
    "    )\n",
    "    "
   ]
  },
  {
   "cell_type": "code",
   "execution_count": null,
   "metadata": {},
   "outputs": [],
   "source": []
  }
 ],
 "metadata": {
  "colab": {
   "collapsed_sections": [],
   "name": "get_data.ipynb",
   "provenance": [],
   "toc_visible": true
  },
  "kernelspec": {
   "display_name": "Python 3",
   "language": "python",
   "name": "python3"
  },
  "language_info": {
   "codemirror_mode": {
    "name": "ipython",
    "version": 3
   },
   "file_extension": ".py",
   "mimetype": "text/x-python",
   "name": "python",
   "nbconvert_exporter": "python",
   "pygments_lexer": "ipython3",
   "version": "3.7.4"
  }
 },
 "nbformat": 4,
 "nbformat_minor": 1
}
