{
 "cells": [
  {
   "cell_type": "code",
   "execution_count": 1,
   "metadata": {
    "colab": {},
    "colab_type": "code",
    "id": "18KQSvUKJLHO"
   },
   "outputs": [],
   "source": [
    "import json\n",
    "import pandas as pd\n",
    "import numpy as np\n",
    "import matplotlib as mpl\n",
    "import matplotlib.pyplot as plt"
   ]
  },
  {
   "cell_type": "code",
   "execution_count": 2,
   "metadata": {
    "colab": {},
    "colab_type": "code",
    "id": "22DJ5_z1s81f"
   },
   "outputs": [],
   "source": [
    "file_path = \"Counterlist-DE.txt\"\n",
    "data = open(file_path,'r')"
   ]
  },
  {
   "cell_type": "code",
   "execution_count": 3,
   "metadata": {
    "colab": {},
    "colab_type": "code",
    "id": "TfwybnVnWPI0"
   },
   "outputs": [],
   "source": [
    "data=[]\n",
    "with open(file_path,'r') as f:    \n",
    "    lines = f.readlines()[1:]\n",
    "    for line in lines:\n",
    "        line = line.replace('\"', '')\n",
    "        elements = line.strip().split(\"\\t\")\n",
    "        data.append(elements)"
   ]
  },
  {
   "cell_type": "code",
   "execution_count": 4,
   "metadata": {
    "colab": {},
    "colab_type": "code",
    "id": "kcK0UhpDW99-"
   },
   "outputs": [],
   "source": [
    "columns=data[0]\n",
    "data = data[1:]"
   ]
  },
  {
   "cell_type": "code",
   "execution_count": 5,
   "metadata": {
    "colab": {},
    "colab_type": "code",
    "id": "4DPyCCGvW5Yb"
   },
   "outputs": [],
   "source": [
    "df = pd.DataFrame(data=data, columns=columns)"
   ]
  },
  {
   "cell_type": "code",
   "execution_count": 6,
   "metadata": {
    "colab": {
     "base_uri": "https://localhost:8080/",
     "height": 480
    },
    "colab_type": "code",
    "id": "u0rq4cfcXjgf",
    "outputId": "bf4f3c54-0091-487d-fc74-f5f659759a98"
   },
   "outputs": [
    {
     "data": {
      "text/html": [
       "<div>\n",
       "<style scoped>\n",
       "    .dataframe tbody tr th:only-of-type {\n",
       "        vertical-align: middle;\n",
       "    }\n",
       "\n",
       "    .dataframe tbody tr th {\n",
       "        vertical-align: top;\n",
       "    }\n",
       "\n",
       "    .dataframe thead th {\n",
       "        text-align: right;\n",
       "    }\n",
       "</style>\n",
       "<table border=\"1\" class=\"dataframe\">\n",
       "  <thead>\n",
       "    <tr style=\"text-align: right;\">\n",
       "      <th></th>\n",
       "      <th>total</th>\n",
       "      <th>mainPratique</th>\n",
       "      <th>id_pdc_img</th>\n",
       "      <th>today</th>\n",
       "      <th>fin</th>\n",
       "      <th>filtre</th>\n",
       "      <th>publicMessage</th>\n",
       "      <th>option1</th>\n",
       "      <th>debutPeriode</th>\n",
       "      <th>lastDay</th>\n",
       "      <th>...</th>\n",
       "      <th>photo</th>\n",
       "      <th>nom</th>\n",
       "      <th>current_year_default</th>\n",
       "      <th>moyD</th>\n",
       "      <th>lienPublic</th>\n",
       "      <th>pays</th>\n",
       "      <th>formule_site</th>\n",
       "      <th>debut</th>\n",
       "      <th>externalUrl</th>\n",
       "      <th>sig</th>\n",
       "    </tr>\n",
       "  </thead>\n",
       "  <tbody>\n",
       "    <tr>\n",
       "      <td>0</td>\n",
       "      <td>285615</td>\n",
       "      <td>2</td>\n",
       "      <td>100012608</td>\n",
       "      <td>21/03/2020</td>\n",
       "      <td>null</td>\n",
       "      <td>0</td>\n",
       "      <td></td>\n",
       "      <td></td>\n",
       "      <td>01/01/2020</td>\n",
       "      <td>2290</td>\n",
       "      <td>...</td>\n",
       "      <td>System.Object[]</td>\n",
       "      <td>Heidelberg_2 (DE)</td>\n",
       "      <td>1</td>\n",
       "      <td>3570</td>\n",
       "      <td>100117680</td>\n",
       "      <td>fr</td>\n",
       "      <td>0</td>\n",
       "      <td>01/01/2013</td>\n",
       "      <td>https://www.eco-compteur.com</td>\n",
       "      <td>1</td>\n",
       "    </tr>\n",
       "    <tr>\n",
       "      <td>1</td>\n",
       "      <td>37851</td>\n",
       "      <td>2</td>\n",
       "      <td>100008949</td>\n",
       "      <td>21/03/2020</td>\n",
       "      <td>null</td>\n",
       "      <td>0</td>\n",
       "      <td></td>\n",
       "      <td></td>\n",
       "      <td>01/01/2020</td>\n",
       "      <td>428</td>\n",
       "      <td>...</td>\n",
       "      <td>System.Object[]</td>\n",
       "      <td>L??rrach (DE)</td>\n",
       "      <td>1</td>\n",
       "      <td>473</td>\n",
       "      <td>100117687</td>\n",
       "      <td>fr</td>\n",
       "      <td>0</td>\n",
       "      <td>01/01/2013</td>\n",
       "      <td>https://www.eco-compteur.com</td>\n",
       "      <td>1</td>\n",
       "    </tr>\n",
       "    <tr>\n",
       "      <td>2</td>\n",
       "      <td>92606</td>\n",
       "      <td>2</td>\n",
       "      <td>100011532</td>\n",
       "      <td>21/03/2020</td>\n",
       "      <td>null</td>\n",
       "      <td>0</td>\n",
       "      <td></td>\n",
       "      <td></td>\n",
       "      <td>01/01/2020</td>\n",
       "      <td>1587</td>\n",
       "      <td>...</td>\n",
       "      <td>System.Object[]</td>\n",
       "      <td>Heilbronn (DE)</td>\n",
       "      <td>1</td>\n",
       "      <td>1158</td>\n",
       "      <td>100117704</td>\n",
       "      <td>fr</td>\n",
       "      <td>0</td>\n",
       "      <td>01/01/2013</td>\n",
       "      <td>https://www.eco-compteur.com</td>\n",
       "      <td>1</td>\n",
       "    </tr>\n",
       "    <tr>\n",
       "      <td>3</td>\n",
       "      <td>64369</td>\n",
       "      <td>2</td>\n",
       "      <td>100013457</td>\n",
       "      <td>21/03/2020</td>\n",
       "      <td>null</td>\n",
       "      <td>0</td>\n",
       "      <td></td>\n",
       "      <td></td>\n",
       "      <td>01/01/2020</td>\n",
       "      <td>1005</td>\n",
       "      <td>...</td>\n",
       "      <td>System.Object[]</td>\n",
       "      <td>Kirchheim u. Teck (DE)</td>\n",
       "      <td>1</td>\n",
       "      <td>805</td>\n",
       "      <td>100117707</td>\n",
       "      <td>fr</td>\n",
       "      <td>0</td>\n",
       "      <td>01/01/2013</td>\n",
       "      <td>https://www.eco-compteur.com</td>\n",
       "      <td>1</td>\n",
       "    </tr>\n",
       "    <tr>\n",
       "      <td>4</td>\n",
       "      <td>127563</td>\n",
       "      <td>2</td>\n",
       "      <td>100005395</td>\n",
       "      <td>21/03/2020</td>\n",
       "      <td>null</td>\n",
       "      <td>0</td>\n",
       "      <td></td>\n",
       "      <td></td>\n",
       "      <td>01/01/2020</td>\n",
       "      <td>2041</td>\n",
       "      <td>...</td>\n",
       "      <td>System.Object[]</td>\n",
       "      <td>Rostock (DE)</td>\n",
       "      <td>1</td>\n",
       "      <td>1595</td>\n",
       "      <td>100117720</td>\n",
       "      <td>fr</td>\n",
       "      <td>0</td>\n",
       "      <td>01/01/2013</td>\n",
       "      <td>https://www.eco-compteur.com</td>\n",
       "      <td>1</td>\n",
       "    </tr>\n",
       "  </tbody>\n",
       "</table>\n",
       "<p>5 rows × 27 columns</p>\n",
       "</div>"
      ],
      "text/plain": [
       "    total mainPratique id_pdc_img       today   fin filtre publicMessage  \\\n",
       "0  285615            2  100012608  21/03/2020  null      0                 \n",
       "1   37851            2  100008949  21/03/2020  null      0                 \n",
       "2   92606            2  100011532  21/03/2020  null      0                 \n",
       "3   64369            2  100013457  21/03/2020  null      0                 \n",
       "4  127563            2  100005395  21/03/2020  null      0                 \n",
       "\n",
       "  option1 debutPeriode lastDay  ...            photo                     nom  \\\n",
       "0           01/01/2020    2290  ...  System.Object[]       Heidelberg_2 (DE)   \n",
       "1           01/01/2020     428  ...  System.Object[]           L??rrach (DE)   \n",
       "2           01/01/2020    1587  ...  System.Object[]          Heilbronn (DE)   \n",
       "3           01/01/2020    1005  ...  System.Object[]  Kirchheim u. Teck (DE)   \n",
       "4           01/01/2020    2041  ...  System.Object[]            Rostock (DE)   \n",
       "\n",
       "  current_year_default  moyD lienPublic pays formule_site       debut  \\\n",
       "0                    1  3570  100117680   fr            0  01/01/2013   \n",
       "1                    1   473  100117687   fr            0  01/01/2013   \n",
       "2                    1  1158  100117704   fr            0  01/01/2013   \n",
       "3                    1   805  100117707   fr            0  01/01/2013   \n",
       "4                    1  1595  100117720   fr            0  01/01/2013   \n",
       "\n",
       "                    externalUrl sig  \n",
       "0  https://www.eco-compteur.com   1  \n",
       "1  https://www.eco-compteur.com   1  \n",
       "2  https://www.eco-compteur.com   1  \n",
       "3  https://www.eco-compteur.com   1  \n",
       "4  https://www.eco-compteur.com   1  \n",
       "\n",
       "[5 rows x 27 columns]"
      ]
     },
     "execution_count": 6,
     "metadata": {},
     "output_type": "execute_result"
    }
   ],
   "source": [
    "df.head()"
   ]
  },
  {
   "cell_type": "code",
   "execution_count": 7,
   "metadata": {
    "colab": {},
    "colab_type": "code",
    "id": "zQ8naWCsNaMn"
   },
   "outputs": [],
   "source": [
    "import requests\n",
    "import json\n",
    "from datetime import datetime\n",
    "\n",
    "def create_request():\n",
    "  json_data={}\n",
    "  for index, row in df.iterrows():\n",
    "    url = 'http://data.eco-counter.com/ParcPublic/CounterData'\n",
    "    start_day, start_month, start_year = row.debut.split('/')\n",
    "    today_day, today_month, today_year = datetime.today().strftime('%d/%m/%Y').split('/')\n",
    "    body = \"idOrganisme=4586&idPdc={}&fin={}%2F{}%2F{}&debut={}%2F{}%2F{}&interval=4&pratiques=101137483%3B102137483%3B103137483%3B104137483\".format(row.idPdc, today_day, today_month, today_year, start_day, start_month, start_year)\n",
    "\n",
    "    headers = {\n",
    "      \"Accept\": \"text/plain, */*; q=0.01\",\n",
    "      \"Accept-Encoding\": \"gzip, deflate\",\n",
    "      \"Accept-Language\": \"en-US,en;q=0.9\",\n",
    "      \"Connection\": \"keep-alive\",\n",
    "      \"Content-Length\": \"115\",\n",
    "      \"Content-Type\": \"application/x-www-form-urlencoded; charset=UTF-8\",\n",
    "      \"Cookie\": \"i18next=en_US; _ga=GA1.2.1682226698.1584790632; _gid=GA1.2.220973166.1584790632\",\n",
    "      \"Host\": \"data.eco-counter.com\",\n",
    "      \"Origin\": \"http://data.eco-counter.com\",\n",
    "      \"Referer\": \"http://data.eco-counter.com/ParcPublic/?id=4586\",\n",
    "      \"User-Agent\": \"Mozilla/5.0 (Windows NT 10.0; WOW64) AppleWebKit/537.36 (KHTML, like Gecko) Chrome/75.0.3770.80 Safari/537.36\",\n",
    "      \"X-Requested-With\": \"XMLHttpRequest\"\n",
    "    }\n",
    "    x = requests.post(url, body, headers=headers)\n",
    "    loc=row['lon'],row['lat']\n",
    "    location = str(loc)\n",
    "    #clean response\n",
    "    response_data = json.loads(x.text)\n",
    "    json_data[location]=response_data\n",
    "  return json_data"
   ]
  },
  {
   "cell_type": "code",
   "execution_count": 8,
   "metadata": {
    "colab": {},
    "colab_type": "code",
    "id": "AEJtNXifYgvB"
   },
   "outputs": [],
   "source": [
    "json_data = create_request()"
   ]
  },
  {
   "cell_type": "code",
   "execution_count": 9,
   "metadata": {
    "colab": {},
    "colab_type": "code",
    "id": "EAFlcwSnYlm0"
   },
   "outputs": [],
   "source": [
    "with open('fahrrad_zaehler.txt', 'w') as f:\n",
    "    f.write(json.dumps(json_data))"
   ]
  },
  {
   "cell_type": "code",
   "execution_count": null,
   "metadata": {},
   "outputs": [],
   "source": []
  }
 ],
 "metadata": {
  "colab": {
   "collapsed_sections": [],
   "name": "get_data.ipynb",
   "provenance": [],
   "toc_visible": true
  },
  "kernelspec": {
   "display_name": "Python 3",
   "language": "python",
   "name": "python3"
  },
  "language_info": {
   "codemirror_mode": {
    "name": "ipython",
    "version": 3
   },
   "file_extension": ".py",
   "mimetype": "text/x-python",
   "name": "python",
   "nbconvert_exporter": "python",
   "pygments_lexer": "ipython3",
   "version": "3.7.4"
  }
 },
 "nbformat": 4,
 "nbformat_minor": 1
}
